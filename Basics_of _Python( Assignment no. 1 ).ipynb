{
 "cells": [
  {
   "cell_type": "code",
   "execution_count": null,
   "id": "c498f4da",
   "metadata": {},
   "outputs": [],
   "source": [
    "          ####  Que 1  ####\n",
    "1. In the below elements which of them are values or an expression? eg:- values can be\n",
    "integer or string and expressions will be mathematical operators.\n",
    "*\n",
    "'hello'\n",
    "-87.8\n",
    "-\n",
    "/\n",
    "+\n",
    "6                          "
   ]
  },
  {
   "cell_type": "code",
   "execution_count": null,
   "id": "262b258d",
   "metadata": {},
   "outputs": [],
   "source": [
    "Answer:\n",
    "    \n",
    "Element which are values  :  'hello' , 6 ,-87.8\n",
    "    \n",
    "Element which are expressions  :  * , - , / , + \n",
    "    "
   ]
  },
  {
   "cell_type": "code",
   "execution_count": null,
   "id": "d45f05c6",
   "metadata": {},
   "outputs": [],
   "source": [
    "          ####  Que 2  ####\n",
    "2. What is the difference between string and variable?    "
   ]
  },
  {
   "cell_type": "code",
   "execution_count": null,
   "id": "4ed79891",
   "metadata": {},
   "outputs": [],
   "source": [
    "Answer:\n",
    "        # difference between string and variable\n",
    "String is a datatype and it can be represented by double quotes.It is a sequence of one or more characters.\n",
    "\n",
    "Variables are used to store the data or values. Strings are data,and that can be assigned to variable.\n",
    "\n",
    "e.g  x = \"ineuron\" #  here  x is variable  and ineuron is string\n"
   ]
  },
  {
   "cell_type": "code",
   "execution_count": null,
   "id": "06dc7264",
   "metadata": {},
   "outputs": [],
   "source": [
    "           ####  Que 3  ####\n",
    "3. Describe three different data types. "
   ]
  },
  {
   "cell_type": "code",
   "execution_count": null,
   "id": "f8cbba32",
   "metadata": {},
   "outputs": [],
   "source": [
    "Answer:#   three different data types\n",
    "* Numeric data type: int , float\n",
    "    int data type contains positive or nagative whole numbers(without fraction).integer value may be any lenght in python.\n",
    "    \n",
    "          e.g  a = 5\n",
    "          here type of a is int\n",
    "    \n",
    "    float data type contains value of floating point number .it is specified by decimal point \n",
    "    \n",
    "          e.g  a = 2.0\n",
    "          type of a is float\n",
    "    \n",
    "* Sequence data type : String , List , Tuple\n",
    "    string is a collection of one or more characters that can be in single , double or triple quote\n",
    "    \n",
    "         e.g. str = \"Welcome to python basics\"\n",
    "        str is of String data type\n",
    "        \n",
    "    List is an ordered collection of data\n",
    "        \n",
    "        e.g  list1 = (\"suvarna\" , \"sutar\" ,\"ineuron\" ,\"data types\")\n",
    "         data type of list1 is List\n",
    "            \n",
    "    Tuple is ordered collection of python objects and tuples are immutable we can not modify after the creation of tuple\n",
    "        \n",
    "        e.g. tuple1 = ( 0 , 1 , 3 , \"pyhon\" , \"ML\" )\n",
    "        \n",
    "*Dictionary data type in Python is an unordered collection of data values .it is used to store data values .can be represeted by key : value pair\n",
    "        \n",
    "        e.g dict1 = {\"vehicle\" : \"Car\" , \"brand\" : \"XUV\" }\n",
    "        "
   ]
  },
  {
   "cell_type": "code",
   "execution_count": null,
   "id": "b826536c",
   "metadata": {},
   "outputs": [],
   "source": [
    "            ####  Que 4  ####\n",
    "4. What is an expression made up of? What do all expressions do?\n"
   ]
  },
  {
   "cell_type": "code",
   "execution_count": null,
   "id": "5439f6b0",
   "metadata": {},
   "outputs": [],
   "source": [
    "Answer:\n",
    "  expression is made up of values,operators.\n",
    " values and operators interpreted to produce some other value. After performing certain operations that gives us value. \n",
    "    "
   ]
  },
  {
   "cell_type": "code",
   "execution_count": null,
   "id": "bef018ab",
   "metadata": {},
   "outputs": [],
   "source": [
    "            ####  Que 5  ####\n",
    "5. This assignment statements, like spam = 10. What is the difference between an\n",
    "expression and a statement?"
   ]
  },
  {
   "cell_type": "code",
   "execution_count": null,
   "id": "10871747",
   "metadata": {},
   "outputs": [],
   "source": [
    "Answer:\n",
    "    spam = 10  it is a statement. Statement refers to a piece of code that executes specific instruction or tells the computer to complete the task\n",
    "\n",
    "whereas expression is a piece of code that can generate certain value after performing operations\n"
   ]
  },
  {
   "cell_type": "code",
   "execution_count": null,
   "id": "bb050e17",
   "metadata": {},
   "outputs": [],
   "source": [
    "           ####  Que 6  ####\n",
    "6. After running the following code, what does the variable bacon contain?\n",
    "bacon = 22\n",
    "bacon + 1\n"
   ]
  },
  {
   "cell_type": "code",
   "execution_count": 1,
   "id": "ec424c95",
   "metadata": {},
   "outputs": [
    {
     "data": {
      "text/plain": [
       "23"
      ]
     },
     "execution_count": 1,
     "metadata": {},
     "output_type": "execute_result"
    }
   ],
   "source": [
    "Answer:\n",
    "bacon = 22\n",
    "bacon + 1"
   ]
  },
  {
   "cell_type": "code",
   "execution_count": null,
   "id": "5447586d",
   "metadata": {},
   "outputs": [],
   "source": [
    "the variable bacon contains value 23\n"
   ]
  },
  {
   "cell_type": "code",
   "execution_count": null,
   "id": "944f075b",
   "metadata": {},
   "outputs": [],
   "source": [
    "          ####  Que 7 #####\n",
    "7. What should the values of the following two terms be?\n",
    "'spam'+'spamspam'\n",
    "'spam'*3"
   ]
  },
  {
   "cell_type": "code",
   "execution_count": 6,
   "id": "e734ec2c",
   "metadata": {},
   "outputs": [
    {
     "data": {
      "text/plain": [
       "'spamspamspam'"
      ]
     },
     "execution_count": 6,
     "metadata": {},
     "output_type": "execute_result"
    }
   ],
   "source": [
    "Answer:          \n",
    "'spam' + 'spamspam'\n",
    "#'spam' * 3"
   ]
  },
  {
   "cell_type": "code",
   "execution_count": 7,
   "id": "fd283135",
   "metadata": {},
   "outputs": [
    {
     "data": {
      "text/plain": [
       "'spamspamspam'"
      ]
     },
     "execution_count": 7,
     "metadata": {},
     "output_type": "execute_result"
    }
   ],
   "source": [
    "'spam' * 3"
   ]
  },
  {
   "cell_type": "code",
   "execution_count": null,
   "id": "465ef6ed",
   "metadata": {},
   "outputs": [],
   "source": [
    "        ####  Que 8 #####\n",
    "8. Why is eggs a valid variable name while 100 is invalid?   "
   ]
  },
  {
   "cell_type": "code",
   "execution_count": null,
   "id": "ff3e6800",
   "metadata": {},
   "outputs": [],
   "source": [
    " Answer:          \n",
    "eggs is a valid variable name while 100 is inavalid because variable name can start with a-z , A-Z ,_ \n",
    "Also variable name can not start with numeric value or any digit. \n"
   ]
  },
  {
   "cell_type": "code",
   "execution_count": null,
   "id": "b0628f62",
   "metadata": {},
   "outputs": [],
   "source": [
    "         ####  Que 9 #####\n",
    "9. What three functions can be used to get the integer, floating-point number, or string\n",
    "version of a value?    "
   ]
  },
  {
   "cell_type": "code",
   "execution_count": null,
   "id": "4765d94c",
   "metadata": {},
   "outputs": [],
   "source": [
    "Answer:          \n",
    "functions used to get the integer ,floating-point number ,or string version of value are\n",
    "int()\n",
    "float() \n",
    "str()"
   ]
  },
  {
   "cell_type": "code",
   "execution_count": null,
   "id": "9d7dc856",
   "metadata": {},
   "outputs": [],
   "source": [
    "         ####  Que 10 #####\n",
    "10. Why does this expression cause an error? How can you fix it?    "
   ]
  },
  {
   "cell_type": "code",
   "execution_count": 9,
   "id": "3cc9b85c",
   "metadata": {},
   "outputs": [
    {
     "ename": "TypeError",
     "evalue": "can only concatenate str (not \"int\") to str",
     "output_type": "error",
     "traceback": [
      "\u001b[1;31m---------------------------------------------------------------------------\u001b[0m",
      "\u001b[1;31mTypeError\u001b[0m                                 Traceback (most recent call last)",
      "\u001b[1;32m~\\AppData\\Local\\Temp\\ipykernel_5776\\1270637129.py\u001b[0m in \u001b[0;36m<module>\u001b[1;34m\u001b[0m\n\u001b[0;32m      1\u001b[0m \u001b[1;31m####  Que 10 #####\u001b[0m\u001b[1;33m\u001b[0m\u001b[1;33m\u001b[0m\u001b[0m\n\u001b[1;32m----> 2\u001b[1;33m \u001b[1;34m'I have eaten'\u001b[0m \u001b[1;33m+\u001b[0m \u001b[1;36m99\u001b[0m \u001b[1;33m+\u001b[0m \u001b[1;34m'burritos.'\u001b[0m\u001b[1;33m\u001b[0m\u001b[1;33m\u001b[0m\u001b[0m\n\u001b[0m",
      "\u001b[1;31mTypeError\u001b[0m: can only concatenate str (not \"int\") to str"
     ]
    }
   ],
   "source": [
    "Answer:         \n",
    "'I have eaten' + 99 + 'burritos.'  # this cause an error because string can concatenate only string type"
   ]
  },
  {
   "cell_type": "code",
   "execution_count": 11,
   "id": "d52858a7",
   "metadata": {},
   "outputs": [
    {
     "data": {
      "text/plain": [
       "'I have eaten 99 burritos.'"
      ]
     },
     "execution_count": 11,
     "metadata": {},
     "output_type": "execute_result"
    }
   ],
   "source": [
    "'I have eaten' + ' 99 ' + 'burritos.'"
   ]
  },
  {
   "cell_type": "code",
   "execution_count": null,
   "id": "1c5c5165",
   "metadata": {},
   "outputs": [],
   "source": []
  }
 ],
 "metadata": {
  "kernelspec": {
   "display_name": "Python 3 (ipykernel)",
   "language": "python",
   "name": "python3"
  },
  "language_info": {
   "codemirror_mode": {
    "name": "ipython",
    "version": 3
   },
   "file_extension": ".py",
   "mimetype": "text/x-python",
   "name": "python",
   "nbconvert_exporter": "python",
   "pygments_lexer": "ipython3",
   "version": "3.11.3"
  }
 },
 "nbformat": 4,
 "nbformat_minor": 5
}
